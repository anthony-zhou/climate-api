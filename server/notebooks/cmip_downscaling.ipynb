{
 "cells": [
  {
   "cell_type": "code",
   "execution_count": 1,
   "outputs": [
    {
     "name": "stderr",
     "output_type": "stream",
     "text": [
      "/Users/anthony/Documents/GitHub/heat-map/server/venv/lib/python3.9/site-packages/fastprogress/fastprogress.py:107: UserWarning: Couldn't import ipywidgets properly, progress bar will use console behavior\n",
      "  warn(\"Couldn't import ipywidgets properly, progress bar will use console behavior\")\n"
     ]
    },
    {
     "data": {
      "text/plain": "<xarray.core.options.set_options at 0x7f9c104039a0>"
     },
     "execution_count": 1,
     "metadata": {},
     "output_type": "execute_result"
    }
   ],
   "source": [
    "import fsspec\n",
    "import xarray as xr\n",
    "import numpy as np\n",
    "import intake\n",
    "import intake_esm\n",
    "xr.set_options(keep_attrs=True)"
   ],
   "metadata": {
    "collapsed": false,
    "pycharm": {
     "name": "#%%\n"
    }
   }
  },
  {
   "cell_type": "markdown",
   "source": [
    "This is a notebook dedicated to downloading and displaying downscaled CMIP6 climate projections. Here, we're using Carbon Plan's downscaled datasets. Alternatives include NASA's Earth Exchange Global Daily Downscaled Projections (NEX-GDDP-CMIP6), Azavea Climate API, and Meteomatics."
   ],
   "metadata": {
    "collapsed": false,
    "pycharm": {
     "name": "#%% md\n"
    }
   }
  },
  {
   "cell_type": "markdown",
   "source": [
    "First, let's load the catalog of datasets from Carbon Plan."
   ],
   "metadata": {
    "collapsed": false,
    "pycharm": {
     "name": "#%% md\n"
    }
   }
  },
  {
   "cell_type": "code",
   "execution_count": 10,
   "outputs": [
    {
     "ename": "FileNotFoundError",
     "evalue": "[Errno 2] No such file or directory: '/Users/anthony/Documents/GitHub/heat-map/server/notebooks/https:/cmip6downscaling.blob.core.windows.net/version1/catalogs/global-downscaled-cmip6.json'",
     "output_type": "error",
     "traceback": [
      "\u001B[0;31m---------------------------------------------------------------------------\u001B[0m",
      "\u001B[0;31mFileNotFoundError\u001B[0m                         Traceback (most recent call last)",
      "Input \u001B[0;32mIn [10]\u001B[0m, in \u001B[0;36m<cell line: 2>\u001B[0;34m()\u001B[0m\n\u001B[1;32m      1\u001B[0m url \u001B[38;5;241m=\u001B[39m \u001B[38;5;124m\"\u001B[39m\u001B[38;5;124mhttps://cmip6downscaling.blob.core.windows.net/version1/catalogs/global-downscaled-cmip6.json\u001B[39m\u001B[38;5;124m\"\u001B[39m\n\u001B[0;32m----> 2\u001B[0m cat \u001B[38;5;241m=\u001B[39m \u001B[43mintake\u001B[49m\u001B[38;5;241;43m.\u001B[39;49m\u001B[43mopen_esm_datastore\u001B[49m\u001B[43m(\u001B[49m\u001B[43murl\u001B[49m\u001B[43m)\u001B[49m\n",
      "File \u001B[0;32m~/Documents/GitHub/heat-map/server/venv/lib/python3.9/site-packages/intake_esm/core.py:83\u001B[0m, in \u001B[0;36mesm_datastore.__init__\u001B[0;34m(self, esmcol_obj, esmcol_data, progressbar, sep, csv_kwargs, **kwargs)\u001B[0m\n\u001B[1;32m     81\u001B[0m \u001B[38;5;28msuper\u001B[39m(esm_datastore, \u001B[38;5;28mself\u001B[39m)\u001B[38;5;241m.\u001B[39m\u001B[38;5;21m__init__\u001B[39m(\u001B[38;5;241m*\u001B[39m\u001B[38;5;241m*\u001B[39mkwargs)\n\u001B[1;32m     82\u001B[0m \u001B[38;5;28;01mif\u001B[39;00m \u001B[38;5;28misinstance\u001B[39m(esmcol_obj, (\u001B[38;5;28mstr\u001B[39m, pathlib\u001B[38;5;241m.\u001B[39mPurePath)):\n\u001B[0;32m---> 83\u001B[0m     \u001B[38;5;28mself\u001B[39m\u001B[38;5;241m.\u001B[39mesmcol_data, \u001B[38;5;28mself\u001B[39m\u001B[38;5;241m.\u001B[39mesmcol_path \u001B[38;5;241m=\u001B[39m \u001B[43m_fetch_and_parse_json\u001B[49m\u001B[43m(\u001B[49m\u001B[43mesmcol_obj\u001B[49m\u001B[43m)\u001B[49m\n\u001B[1;32m     84\u001B[0m     \u001B[38;5;28mself\u001B[39m\u001B[38;5;241m.\u001B[39m_df, \u001B[38;5;28mself\u001B[39m\u001B[38;5;241m.\u001B[39mcatalog_file \u001B[38;5;241m=\u001B[39m _fetch_catalog(\u001B[38;5;28mself\u001B[39m\u001B[38;5;241m.\u001B[39mesmcol_data, esmcol_obj, csv_kwargs)\n\u001B[1;32m     86\u001B[0m \u001B[38;5;28;01melif\u001B[39;00m \u001B[38;5;28misinstance\u001B[39m(esmcol_obj, pd\u001B[38;5;241m.\u001B[39mDataFrame):\n",
      "File \u001B[0;32m~/Documents/GitHub/heat-map/server/venv/lib/python3.9/site-packages/intake_esm/utils.py:59\u001B[0m, in \u001B[0;36m_fetch_and_parse_json\u001B[0;34m(input_path)\u001B[0m\n\u001B[1;32m     56\u001B[0m             data \u001B[38;5;241m=\u001B[39m json\u001B[38;5;241m.\u001B[39mload(filein)\n\u001B[1;32m     58\u001B[0m \u001B[38;5;28;01mexcept\u001B[39;00m \u001B[38;5;167;01mException\u001B[39;00m \u001B[38;5;28;01mas\u001B[39;00m exc:\n\u001B[0;32m---> 59\u001B[0m     \u001B[38;5;28;01mraise\u001B[39;00m exc\n\u001B[1;32m     61\u001B[0m \u001B[38;5;28;01mreturn\u001B[39;00m data, input_path\n",
      "File \u001B[0;32m~/Documents/GitHub/heat-map/server/venv/lib/python3.9/site-packages/intake_esm/utils.py:55\u001B[0m, in \u001B[0;36m_fetch_and_parse_json\u001B[0;34m(input_path)\u001B[0m\n\u001B[1;32m     53\u001B[0m     \u001B[38;5;28;01melse\u001B[39;00m:\n\u001B[1;32m     54\u001B[0m         input_path \u001B[38;5;241m=\u001B[39m Path(input_path)\u001B[38;5;241m.\u001B[39mabsolute()\u001B[38;5;241m.\u001B[39mas_posix()\n\u001B[0;32m---> 55\u001B[0m         \u001B[38;5;28;01mwith\u001B[39;00m \u001B[38;5;28;43mopen\u001B[39;49m\u001B[43m(\u001B[49m\u001B[43minput_path\u001B[49m\u001B[43m)\u001B[49m \u001B[38;5;28;01mas\u001B[39;00m filein:\n\u001B[1;32m     56\u001B[0m             data \u001B[38;5;241m=\u001B[39m json\u001B[38;5;241m.\u001B[39mload(filein)\n\u001B[1;32m     58\u001B[0m \u001B[38;5;28;01mexcept\u001B[39;00m \u001B[38;5;167;01mException\u001B[39;00m \u001B[38;5;28;01mas\u001B[39;00m exc:\n",
      "\u001B[0;31mFileNotFoundError\u001B[0m: [Errno 2] No such file or directory: '/Users/anthony/Documents/GitHub/heat-map/server/notebooks/https:/cmip6downscaling.blob.core.windows.net/version1/catalogs/global-downscaled-cmip6.json'"
     ]
    }
   ],
   "source": [
    "url = \"https://cmip6downscaling.blob.core.windows.net/version1/catalogs/global-downscaled-cmip6.json\"\n",
    "cat = intake.open_esm_datastore(url)"
   ],
   "metadata": {
    "collapsed": false,
    "pycharm": {
     "name": "#%%\n"
    }
   }
  },
  {
   "cell_type": "markdown",
   "source": [
    "Now, let's find the `GARD-MV` dataset."
   ],
   "metadata": {
    "collapsed": false,
    "pycharm": {
     "name": "#%% md\n"
    }
   }
  },
  {
   "cell_type": "code",
   "execution_count": 3,
   "outputs": [
    {
     "ename": "NameError",
     "evalue": "name 'cat' is not defined",
     "output_type": "error",
     "traceback": [
      "\u001B[0;31m---------------------------------------------------------------------------\u001B[0m",
      "\u001B[0;31mNameError\u001B[0m                                 Traceback (most recent call last)",
      "Input \u001B[0;32mIn [3]\u001B[0m, in \u001B[0;36m<cell line: 1>\u001B[0;34m()\u001B[0m\n\u001B[0;32m----> 1\u001B[0m cat_subset \u001B[38;5;241m=\u001B[39m \u001B[43mcat\u001B[49m\u001B[38;5;241m.\u001B[39msearch(\n\u001B[1;32m      2\u001B[0m     method\u001B[38;5;241m=\u001B[39m\u001B[38;5;124m'\u001B[39m\u001B[38;5;124mGARD-MV\u001B[39m\u001B[38;5;124m'\u001B[39m, source_id\u001B[38;5;241m=\u001B[39m\u001B[38;5;124m'\u001B[39m\u001B[38;5;124mMRI-ESM2-0\u001B[39m\u001B[38;5;124m'\u001B[39m, experiment_id\u001B[38;5;241m=\u001B[39m\u001B[38;5;124m'\u001B[39m\u001B[38;5;124mssp245\u001B[39m\u001B[38;5;124m'\u001B[39m, variable_id\u001B[38;5;241m=\u001B[39m\u001B[38;5;124m'\u001B[39m\u001B[38;5;124mtasmax\u001B[39m\u001B[38;5;124m'\u001B[39m\n\u001B[1;32m      3\u001B[0m )\n\u001B[1;32m      4\u001B[0m cat_subset\u001B[38;5;241m.\u001B[39mdf\u001B[38;5;241m.\u001B[39mhead()\n",
      "\u001B[0;31mNameError\u001B[0m: name 'cat' is not defined"
     ]
    }
   ],
   "source": [
    "cat_subset = cat.search(\n",
    "    method='GARD-MV', source_id='MRI-ESM2-0', experiment_id='ssp245', variable_id='tasmax'\n",
    ")\n",
    "cat_subset.df.head()"
   ],
   "metadata": {
    "collapsed": false,
    "pycharm": {
     "name": "#%%\n"
    }
   }
  },
  {
   "cell_type": "markdown",
   "source": [
    "Here, we can get the dataset from the catalog. Note that if you get an xarray error, make sure you try running the `Install Certificates.command` command in /Applications/Python"
   ],
   "metadata": {
    "collapsed": false,
    "pycharm": {
     "name": "#%% md\n"
    }
   }
  },
  {
   "cell_type": "code",
   "execution_count": 9,
   "outputs": [
    {
     "ename": "NameError",
     "evalue": "name 'cat_subset' is not defined",
     "output_type": "error",
     "traceback": [
      "\u001B[0;31m---------------------------------------------------------------------------\u001B[0m",
      "\u001B[0;31mNameError\u001B[0m                                 Traceback (most recent call last)",
      "Input \u001B[0;32mIn [9]\u001B[0m, in \u001B[0;36m<cell line: 1>\u001B[0;34m()\u001B[0m\n\u001B[0;32m----> 1\u001B[0m dsets \u001B[38;5;241m=\u001B[39m \u001B[43mcat_subset\u001B[49m\u001B[38;5;241m.\u001B[39mto_dataset_dict()\n\u001B[1;32m      2\u001B[0m dsets\n",
      "\u001B[0;31mNameError\u001B[0m: name 'cat_subset' is not defined"
     ]
    }
   ],
   "source": [
    "dsets = cat_subset.to_dataset_dict()\n",
    "dsets"
   ],
   "metadata": {
    "collapsed": false,
    "pycharm": {
     "name": "#%%\n"
    }
   }
  },
  {
   "cell_type": "code",
   "execution_count": null,
   "outputs": [],
   "source": [
    "ds = dsets['ScenarioMIP.MRI.MRI-ESM2-0.ssp245.day.GARD-MV']\n",
    "ds"
   ],
   "metadata": {
    "collapsed": false,
    "pycharm": {
     "name": "#%%\n"
    }
   }
  },
  {
   "cell_type": "code",
   "execution_count": null,
   "outputs": [],
   "source": [
    "# Note: this cell runs slowly right now (~40s runtime). Figure out how to make it faster.\n",
    "coordinates = {\n",
    "    \"lat\": 32.9412,\n",
    "    \"lon\": -97.1342\n",
    "}   # Southlake, TX\n",
    "local_data = ds.sel(time='2015-01-01', lat=coordinates['lat'], lon=coordinates['lon'], method='nearest')['tasmax'].values[0]\n",
    "print(local_data)"
   ],
   "metadata": {
    "collapsed": false,
    "pycharm": {
     "name": "#%%\n"
    }
   }
  },
  {
   "cell_type": "markdown",
   "source": [
    "Note: at this point I found out that the Carbon Plan fileserver is not super reliable. I'm moving to the NASA GDDP dataset instead."
   ],
   "metadata": {
    "collapsed": false,
    "pycharm": {
     "name": "#%% md\n"
    }
   }
  },
  {
   "cell_type": "code",
   "execution_count": null,
   "outputs": [],
   "source": [],
   "metadata": {
    "collapsed": false,
    "pycharm": {
     "name": "#%%\n"
    }
   }
  }
 ],
 "metadata": {
  "kernelspec": {
   "display_name": "Python 3",
   "language": "python",
   "name": "python3"
  },
  "language_info": {
   "codemirror_mode": {
    "name": "ipython",
    "version": 2
   },
   "file_extension": ".py",
   "mimetype": "text/x-python",
   "name": "python",
   "nbconvert_exporter": "python",
   "pygments_lexer": "ipython2",
   "version": "2.7.6"
  }
 },
 "nbformat": 4,
 "nbformat_minor": 0
}