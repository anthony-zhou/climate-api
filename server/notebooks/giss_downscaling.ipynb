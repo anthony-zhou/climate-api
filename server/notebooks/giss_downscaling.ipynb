{
 "cells": [
  {
   "cell_type": "code",
   "execution_count": 2,
   "outputs": [],
   "source": [
    "import pandas as pd\n",
    "import numpy as np\n",
    "import requests\n",
    "import xml.etree.ElementTree as ET\n",
    "from netCDF4 import Dataset"
   ],
   "metadata": {
    "collapsed": false,
    "pycharm": {
     "name": "#%%\n"
    }
   }
  },
  {
   "cell_type": "markdown",
   "source": [
    "# 1. Load data"
   ],
   "metadata": {
    "collapsed": false,
    "pycharm": {
     "name": "#%% md\n"
    }
   }
  },
  {
   "cell_type": "markdown",
   "source": [
    "## A. Get the checksums"
   ],
   "metadata": {
    "collapsed": false,
    "pycharm": {
     "name": "#%% md\n"
    }
   }
  },
  {
   "cell_type": "code",
   "execution_count": 5,
   "outputs": [
    {
     "data": {
      "text/plain": "                            fileMD5  \\\n0  e34060e7b1abf84d71d61ea21da77d8e   \n1  72de82165e04bf28814b493300c7e305   \n2  9d94ea3cab21637ddd267fe5a0a5afd3   \n3  1d3b4f2ab48e85e694ca2a4270aff80a   \n4  37c78ade0ba210f8a4d80fda03fd3397   \n\n                                             fileUrl  \n0   https://ds.nccs.nasa.gov/thredds2/fileServer/...  \n1   https://ds.nccs.nasa.gov/thredds2/fileServer/...  \n2   https://ds.nccs.nasa.gov/thredds2/fileServer/...  \n3   https://ds.nccs.nasa.gov/thredds2/fileServer/...  \n4   https://ds.nccs.nasa.gov/thredds2/fileServer/...  ",
      "text/html": "<div>\n<style scoped>\n    .dataframe tbody tr th:only-of-type {\n        vertical-align: middle;\n    }\n\n    .dataframe tbody tr th {\n        vertical-align: top;\n    }\n\n    .dataframe thead th {\n        text-align: right;\n    }\n</style>\n<table border=\"1\" class=\"dataframe\">\n  <thead>\n    <tr style=\"text-align: right;\">\n      <th></th>\n      <th>fileMD5</th>\n      <th>fileUrl</th>\n    </tr>\n  </thead>\n  <tbody>\n    <tr>\n      <th>0</th>\n      <td>e34060e7b1abf84d71d61ea21da77d8e</td>\n      <td>https://ds.nccs.nasa.gov/thredds2/fileServer/...</td>\n    </tr>\n    <tr>\n      <th>1</th>\n      <td>72de82165e04bf28814b493300c7e305</td>\n      <td>https://ds.nccs.nasa.gov/thredds2/fileServer/...</td>\n    </tr>\n    <tr>\n      <th>2</th>\n      <td>9d94ea3cab21637ddd267fe5a0a5afd3</td>\n      <td>https://ds.nccs.nasa.gov/thredds2/fileServer/...</td>\n    </tr>\n    <tr>\n      <th>3</th>\n      <td>1d3b4f2ab48e85e694ca2a4270aff80a</td>\n      <td>https://ds.nccs.nasa.gov/thredds2/fileServer/...</td>\n    </tr>\n    <tr>\n      <th>4</th>\n      <td>37c78ade0ba210f8a4d80fda03fd3397</td>\n      <td>https://ds.nccs.nasa.gov/thredds2/fileServer/...</td>\n    </tr>\n  </tbody>\n</table>\n</div>"
     },
     "execution_count": 5,
     "metadata": {},
     "output_type": "execute_result"
    }
   ],
   "source": [
    "# This file contains a list of file URLs and their corresponding checksums\n",
    "df = pd.read_csv('./gddp-cmip6-thredds-fileserver.csv')\n",
    "df.head()"
   ],
   "metadata": {
    "collapsed": false,
    "pycharm": {
     "name": "#%%\n"
    }
   }
  },
  {
   "cell_type": "markdown",
   "source": [
    "## B. Load the data for GISS simulations."
   ],
   "metadata": {
    "collapsed": false,
    "pycharm": {
     "name": "#%% md\n"
    }
   }
  },
  {
   "cell_type": "code",
   "execution_count": 11,
   "outputs": [],
   "source": [
    "# Download GISS catalog to an XML file\n",
    "var_name = 'tasmax'\n",
    "catalog_url = f'https://ds.nccs.nasa.gov/thredds/catalog/AMES/NEX/GDDP-CMIP6/GISS-E2-1-G/ssp245/r1i1p1f2/{var_name}/catalog.xml'\n",
    "resp = requests.get(catalog_url)\n",
    "with open(f'./{var_name}_catalog.xml', 'wb') as f:\n",
    "    f.write(resp.content)"
   ],
   "metadata": {
    "collapsed": false,
    "pycharm": {
     "name": "#%%\n"
    }
   }
  },
  {
   "cell_type": "code",
   "execution_count": 107,
   "outputs": [
    {
     "name": "stdout",
     "output_type": "stream",
     "text": [
      "Found 86 dataset URLs. Total storage required: 21090.09999999999 MB.\n",
      "['AMES/NEX/GDDP-CMIP6/GISS-E2-1-G/ssp245/r1i1p1f2/tas/tas_day_GISS-E2-1-G_ssp245_r1i1p1f2_gn_2100.nc', 'AMES/NEX/GDDP-CMIP6/GISS-E2-1-G/ssp245/r1i1p1f2/tas/tas_day_GISS-E2-1-G_ssp245_r1i1p1f2_gn_2099.nc', 'AMES/NEX/GDDP-CMIP6/GISS-E2-1-G/ssp245/r1i1p1f2/tas/tas_day_GISS-E2-1-G_ssp245_r1i1p1f2_gn_2098.nc', 'AMES/NEX/GDDP-CMIP6/GISS-E2-1-G/ssp245/r1i1p1f2/tas/tas_day_GISS-E2-1-G_ssp245_r1i1p1f2_gn_2097.nc', 'AMES/NEX/GDDP-CMIP6/GISS-E2-1-G/ssp245/r1i1p1f2/tas/tas_day_GISS-E2-1-G_ssp245_r1i1p1f2_gn_2096.nc', 'AMES/NEX/GDDP-CMIP6/GISS-E2-1-G/ssp245/r1i1p1f2/tas/tas_day_GISS-E2-1-G_ssp245_r1i1p1f2_gn_2095.nc', 'AMES/NEX/GDDP-CMIP6/GISS-E2-1-G/ssp245/r1i1p1f2/tas/tas_day_GISS-E2-1-G_ssp245_r1i1p1f2_gn_2094.nc', 'AMES/NEX/GDDP-CMIP6/GISS-E2-1-G/ssp245/r1i1p1f2/tas/tas_day_GISS-E2-1-G_ssp245_r1i1p1f2_gn_2093.nc', 'AMES/NEX/GDDP-CMIP6/GISS-E2-1-G/ssp245/r1i1p1f2/tas/tas_day_GISS-E2-1-G_ssp245_r1i1p1f2_gn_2092.nc', 'AMES/NEX/GDDP-CMIP6/GISS-E2-1-G/ssp245/r1i1p1f2/tas/tas_day_GISS-E2-1-G_ssp245_r1i1p1f2_gn_2091.nc', 'AMES/NEX/GDDP-CMIP6/GISS-E2-1-G/ssp245/r1i1p1f2/tas/tas_day_GISS-E2-1-G_ssp245_r1i1p1f2_gn_2090.nc', 'AMES/NEX/GDDP-CMIP6/GISS-E2-1-G/ssp245/r1i1p1f2/tas/tas_day_GISS-E2-1-G_ssp245_r1i1p1f2_gn_2089.nc', 'AMES/NEX/GDDP-CMIP6/GISS-E2-1-G/ssp245/r1i1p1f2/tas/tas_day_GISS-E2-1-G_ssp245_r1i1p1f2_gn_2088.nc', 'AMES/NEX/GDDP-CMIP6/GISS-E2-1-G/ssp245/r1i1p1f2/tas/tas_day_GISS-E2-1-G_ssp245_r1i1p1f2_gn_2087.nc', 'AMES/NEX/GDDP-CMIP6/GISS-E2-1-G/ssp245/r1i1p1f2/tas/tas_day_GISS-E2-1-G_ssp245_r1i1p1f2_gn_2086.nc', 'AMES/NEX/GDDP-CMIP6/GISS-E2-1-G/ssp245/r1i1p1f2/tas/tas_day_GISS-E2-1-G_ssp245_r1i1p1f2_gn_2085.nc', 'AMES/NEX/GDDP-CMIP6/GISS-E2-1-G/ssp245/r1i1p1f2/tas/tas_day_GISS-E2-1-G_ssp245_r1i1p1f2_gn_2084.nc', 'AMES/NEX/GDDP-CMIP6/GISS-E2-1-G/ssp245/r1i1p1f2/tas/tas_day_GISS-E2-1-G_ssp245_r1i1p1f2_gn_2083.nc', 'AMES/NEX/GDDP-CMIP6/GISS-E2-1-G/ssp245/r1i1p1f2/tas/tas_day_GISS-E2-1-G_ssp245_r1i1p1f2_gn_2082.nc', 'AMES/NEX/GDDP-CMIP6/GISS-E2-1-G/ssp245/r1i1p1f2/tas/tas_day_GISS-E2-1-G_ssp245_r1i1p1f2_gn_2081.nc', 'AMES/NEX/GDDP-CMIP6/GISS-E2-1-G/ssp245/r1i1p1f2/tas/tas_day_GISS-E2-1-G_ssp245_r1i1p1f2_gn_2080.nc', 'AMES/NEX/GDDP-CMIP6/GISS-E2-1-G/ssp245/r1i1p1f2/tas/tas_day_GISS-E2-1-G_ssp245_r1i1p1f2_gn_2079.nc', 'AMES/NEX/GDDP-CMIP6/GISS-E2-1-G/ssp245/r1i1p1f2/tas/tas_day_GISS-E2-1-G_ssp245_r1i1p1f2_gn_2078.nc', 'AMES/NEX/GDDP-CMIP6/GISS-E2-1-G/ssp245/r1i1p1f2/tas/tas_day_GISS-E2-1-G_ssp245_r1i1p1f2_gn_2077.nc', 'AMES/NEX/GDDP-CMIP6/GISS-E2-1-G/ssp245/r1i1p1f2/tas/tas_day_GISS-E2-1-G_ssp245_r1i1p1f2_gn_2076.nc', 'AMES/NEX/GDDP-CMIP6/GISS-E2-1-G/ssp245/r1i1p1f2/tas/tas_day_GISS-E2-1-G_ssp245_r1i1p1f2_gn_2075.nc', 'AMES/NEX/GDDP-CMIP6/GISS-E2-1-G/ssp245/r1i1p1f2/tas/tas_day_GISS-E2-1-G_ssp245_r1i1p1f2_gn_2074.nc', 'AMES/NEX/GDDP-CMIP6/GISS-E2-1-G/ssp245/r1i1p1f2/tas/tas_day_GISS-E2-1-G_ssp245_r1i1p1f2_gn_2073.nc', 'AMES/NEX/GDDP-CMIP6/GISS-E2-1-G/ssp245/r1i1p1f2/tas/tas_day_GISS-E2-1-G_ssp245_r1i1p1f2_gn_2072.nc', 'AMES/NEX/GDDP-CMIP6/GISS-E2-1-G/ssp245/r1i1p1f2/tas/tas_day_GISS-E2-1-G_ssp245_r1i1p1f2_gn_2071.nc', 'AMES/NEX/GDDP-CMIP6/GISS-E2-1-G/ssp245/r1i1p1f2/tas/tas_day_GISS-E2-1-G_ssp245_r1i1p1f2_gn_2070.nc', 'AMES/NEX/GDDP-CMIP6/GISS-E2-1-G/ssp245/r1i1p1f2/tas/tas_day_GISS-E2-1-G_ssp245_r1i1p1f2_gn_2069.nc', 'AMES/NEX/GDDP-CMIP6/GISS-E2-1-G/ssp245/r1i1p1f2/tas/tas_day_GISS-E2-1-G_ssp245_r1i1p1f2_gn_2068.nc', 'AMES/NEX/GDDP-CMIP6/GISS-E2-1-G/ssp245/r1i1p1f2/tas/tas_day_GISS-E2-1-G_ssp245_r1i1p1f2_gn_2067.nc', 'AMES/NEX/GDDP-CMIP6/GISS-E2-1-G/ssp245/r1i1p1f2/tas/tas_day_GISS-E2-1-G_ssp245_r1i1p1f2_gn_2066.nc', 'AMES/NEX/GDDP-CMIP6/GISS-E2-1-G/ssp245/r1i1p1f2/tas/tas_day_GISS-E2-1-G_ssp245_r1i1p1f2_gn_2065.nc', 'AMES/NEX/GDDP-CMIP6/GISS-E2-1-G/ssp245/r1i1p1f2/tas/tas_day_GISS-E2-1-G_ssp245_r1i1p1f2_gn_2064.nc', 'AMES/NEX/GDDP-CMIP6/GISS-E2-1-G/ssp245/r1i1p1f2/tas/tas_day_GISS-E2-1-G_ssp245_r1i1p1f2_gn_2063.nc', 'AMES/NEX/GDDP-CMIP6/GISS-E2-1-G/ssp245/r1i1p1f2/tas/tas_day_GISS-E2-1-G_ssp245_r1i1p1f2_gn_2062.nc', 'AMES/NEX/GDDP-CMIP6/GISS-E2-1-G/ssp245/r1i1p1f2/tas/tas_day_GISS-E2-1-G_ssp245_r1i1p1f2_gn_2061.nc', 'AMES/NEX/GDDP-CMIP6/GISS-E2-1-G/ssp245/r1i1p1f2/tas/tas_day_GISS-E2-1-G_ssp245_r1i1p1f2_gn_2060.nc', 'AMES/NEX/GDDP-CMIP6/GISS-E2-1-G/ssp245/r1i1p1f2/tas/tas_day_GISS-E2-1-G_ssp245_r1i1p1f2_gn_2059.nc', 'AMES/NEX/GDDP-CMIP6/GISS-E2-1-G/ssp245/r1i1p1f2/tas/tas_day_GISS-E2-1-G_ssp245_r1i1p1f2_gn_2058.nc', 'AMES/NEX/GDDP-CMIP6/GISS-E2-1-G/ssp245/r1i1p1f2/tas/tas_day_GISS-E2-1-G_ssp245_r1i1p1f2_gn_2057.nc', 'AMES/NEX/GDDP-CMIP6/GISS-E2-1-G/ssp245/r1i1p1f2/tas/tas_day_GISS-E2-1-G_ssp245_r1i1p1f2_gn_2056.nc', 'AMES/NEX/GDDP-CMIP6/GISS-E2-1-G/ssp245/r1i1p1f2/tas/tas_day_GISS-E2-1-G_ssp245_r1i1p1f2_gn_2055.nc', 'AMES/NEX/GDDP-CMIP6/GISS-E2-1-G/ssp245/r1i1p1f2/tas/tas_day_GISS-E2-1-G_ssp245_r1i1p1f2_gn_2054.nc', 'AMES/NEX/GDDP-CMIP6/GISS-E2-1-G/ssp245/r1i1p1f2/tas/tas_day_GISS-E2-1-G_ssp245_r1i1p1f2_gn_2053.nc', 'AMES/NEX/GDDP-CMIP6/GISS-E2-1-G/ssp245/r1i1p1f2/tas/tas_day_GISS-E2-1-G_ssp245_r1i1p1f2_gn_2052.nc', 'AMES/NEX/GDDP-CMIP6/GISS-E2-1-G/ssp245/r1i1p1f2/tas/tas_day_GISS-E2-1-G_ssp245_r1i1p1f2_gn_2051.nc', 'AMES/NEX/GDDP-CMIP6/GISS-E2-1-G/ssp245/r1i1p1f2/tas/tas_day_GISS-E2-1-G_ssp245_r1i1p1f2_gn_2050.nc', 'AMES/NEX/GDDP-CMIP6/GISS-E2-1-G/ssp245/r1i1p1f2/tas/tas_day_GISS-E2-1-G_ssp245_r1i1p1f2_gn_2049.nc', 'AMES/NEX/GDDP-CMIP6/GISS-E2-1-G/ssp245/r1i1p1f2/tas/tas_day_GISS-E2-1-G_ssp245_r1i1p1f2_gn_2048.nc', 'AMES/NEX/GDDP-CMIP6/GISS-E2-1-G/ssp245/r1i1p1f2/tas/tas_day_GISS-E2-1-G_ssp245_r1i1p1f2_gn_2047.nc', 'AMES/NEX/GDDP-CMIP6/GISS-E2-1-G/ssp245/r1i1p1f2/tas/tas_day_GISS-E2-1-G_ssp245_r1i1p1f2_gn_2046.nc', 'AMES/NEX/GDDP-CMIP6/GISS-E2-1-G/ssp245/r1i1p1f2/tas/tas_day_GISS-E2-1-G_ssp245_r1i1p1f2_gn_2045.nc', 'AMES/NEX/GDDP-CMIP6/GISS-E2-1-G/ssp245/r1i1p1f2/tas/tas_day_GISS-E2-1-G_ssp245_r1i1p1f2_gn_2044.nc', 'AMES/NEX/GDDP-CMIP6/GISS-E2-1-G/ssp245/r1i1p1f2/tas/tas_day_GISS-E2-1-G_ssp245_r1i1p1f2_gn_2043.nc', 'AMES/NEX/GDDP-CMIP6/GISS-E2-1-G/ssp245/r1i1p1f2/tas/tas_day_GISS-E2-1-G_ssp245_r1i1p1f2_gn_2042.nc', 'AMES/NEX/GDDP-CMIP6/GISS-E2-1-G/ssp245/r1i1p1f2/tas/tas_day_GISS-E2-1-G_ssp245_r1i1p1f2_gn_2041.nc', 'AMES/NEX/GDDP-CMIP6/GISS-E2-1-G/ssp245/r1i1p1f2/tas/tas_day_GISS-E2-1-G_ssp245_r1i1p1f2_gn_2040.nc', 'AMES/NEX/GDDP-CMIP6/GISS-E2-1-G/ssp245/r1i1p1f2/tas/tas_day_GISS-E2-1-G_ssp245_r1i1p1f2_gn_2039.nc', 'AMES/NEX/GDDP-CMIP6/GISS-E2-1-G/ssp245/r1i1p1f2/tas/tas_day_GISS-E2-1-G_ssp245_r1i1p1f2_gn_2038.nc', 'AMES/NEX/GDDP-CMIP6/GISS-E2-1-G/ssp245/r1i1p1f2/tas/tas_day_GISS-E2-1-G_ssp245_r1i1p1f2_gn_2037.nc', 'AMES/NEX/GDDP-CMIP6/GISS-E2-1-G/ssp245/r1i1p1f2/tas/tas_day_GISS-E2-1-G_ssp245_r1i1p1f2_gn_2036.nc', 'AMES/NEX/GDDP-CMIP6/GISS-E2-1-G/ssp245/r1i1p1f2/tas/tas_day_GISS-E2-1-G_ssp245_r1i1p1f2_gn_2035.nc', 'AMES/NEX/GDDP-CMIP6/GISS-E2-1-G/ssp245/r1i1p1f2/tas/tas_day_GISS-E2-1-G_ssp245_r1i1p1f2_gn_2034.nc', 'AMES/NEX/GDDP-CMIP6/GISS-E2-1-G/ssp245/r1i1p1f2/tas/tas_day_GISS-E2-1-G_ssp245_r1i1p1f2_gn_2033.nc', 'AMES/NEX/GDDP-CMIP6/GISS-E2-1-G/ssp245/r1i1p1f2/tas/tas_day_GISS-E2-1-G_ssp245_r1i1p1f2_gn_2032.nc', 'AMES/NEX/GDDP-CMIP6/GISS-E2-1-G/ssp245/r1i1p1f2/tas/tas_day_GISS-E2-1-G_ssp245_r1i1p1f2_gn_2031.nc', 'AMES/NEX/GDDP-CMIP6/GISS-E2-1-G/ssp245/r1i1p1f2/tas/tas_day_GISS-E2-1-G_ssp245_r1i1p1f2_gn_2030.nc', 'AMES/NEX/GDDP-CMIP6/GISS-E2-1-G/ssp245/r1i1p1f2/tas/tas_day_GISS-E2-1-G_ssp245_r1i1p1f2_gn_2029.nc', 'AMES/NEX/GDDP-CMIP6/GISS-E2-1-G/ssp245/r1i1p1f2/tas/tas_day_GISS-E2-1-G_ssp245_r1i1p1f2_gn_2028.nc', 'AMES/NEX/GDDP-CMIP6/GISS-E2-1-G/ssp245/r1i1p1f2/tas/tas_day_GISS-E2-1-G_ssp245_r1i1p1f2_gn_2027.nc', 'AMES/NEX/GDDP-CMIP6/GISS-E2-1-G/ssp245/r1i1p1f2/tas/tas_day_GISS-E2-1-G_ssp245_r1i1p1f2_gn_2026.nc', 'AMES/NEX/GDDP-CMIP6/GISS-E2-1-G/ssp245/r1i1p1f2/tas/tas_day_GISS-E2-1-G_ssp245_r1i1p1f2_gn_2025.nc', 'AMES/NEX/GDDP-CMIP6/GISS-E2-1-G/ssp245/r1i1p1f2/tas/tas_day_GISS-E2-1-G_ssp245_r1i1p1f2_gn_2024.nc', 'AMES/NEX/GDDP-CMIP6/GISS-E2-1-G/ssp245/r1i1p1f2/tas/tas_day_GISS-E2-1-G_ssp245_r1i1p1f2_gn_2023.nc', 'AMES/NEX/GDDP-CMIP6/GISS-E2-1-G/ssp245/r1i1p1f2/tas/tas_day_GISS-E2-1-G_ssp245_r1i1p1f2_gn_2022.nc', 'AMES/NEX/GDDP-CMIP6/GISS-E2-1-G/ssp245/r1i1p1f2/tas/tas_day_GISS-E2-1-G_ssp245_r1i1p1f2_gn_2021.nc', 'AMES/NEX/GDDP-CMIP6/GISS-E2-1-G/ssp245/r1i1p1f2/tas/tas_day_GISS-E2-1-G_ssp245_r1i1p1f2_gn_2020.nc', 'AMES/NEX/GDDP-CMIP6/GISS-E2-1-G/ssp245/r1i1p1f2/tas/tas_day_GISS-E2-1-G_ssp245_r1i1p1f2_gn_2019.nc', 'AMES/NEX/GDDP-CMIP6/GISS-E2-1-G/ssp245/r1i1p1f2/tas/tas_day_GISS-E2-1-G_ssp245_r1i1p1f2_gn_2018.nc', 'AMES/NEX/GDDP-CMIP6/GISS-E2-1-G/ssp245/r1i1p1f2/tas/tas_day_GISS-E2-1-G_ssp245_r1i1p1f2_gn_2017.nc', 'AMES/NEX/GDDP-CMIP6/GISS-E2-1-G/ssp245/r1i1p1f2/tas/tas_day_GISS-E2-1-G_ssp245_r1i1p1f2_gn_2016.nc', 'AMES/NEX/GDDP-CMIP6/GISS-E2-1-G/ssp245/r1i1p1f2/tas/tas_day_GISS-E2-1-G_ssp245_r1i1p1f2_gn_2015.nc']\n"
     ]
    }
   ],
   "source": [
    "# Parse dataset URLs from the XML file\n",
    "dataset_urls = []\n",
    "total_storage_req = 0.0\n",
    "tree = ET.parse('tasmax_catalog.xml')\n",
    "root = tree.getroot()\n",
    "\n",
    "xmlns = \"http://www.unidata.ucar.edu/namespaces/thredds/InvCatalog/v1.0\"\n",
    "ns = {\n",
    "    \"ns\": xmlns\n",
    "}\n",
    "for item in tree.getroot().findall('ns:dataset/', ns):\n",
    "    if 'dataset' in item.tag:\n",
    "        dataset_url = item.attrib['urlPath']\n",
    "        dataset_urls.append(dataset_url)\n",
    "\n",
    "        data_size = item.find('ns:dataSize', ns)\n",
    "        total_storage_req += float(data_size.text)\n",
    "\n",
    "print(f\"Found {len(dataset_urls)} dataset URLs. Total storage required: {total_storage_req} MB.\")\n",
    "print(dataset_urls)\n"
   ],
   "metadata": {
    "collapsed": false,
    "pycharm": {
     "name": "#%%\n"
    }
   }
  },
  {
   "cell_type": "markdown",
   "source": [
    "## C. Download the data from the specified URLs"
   ],
   "metadata": {
    "collapsed": false,
    "pycharm": {
     "name": "#%% md\n"
    }
   }
  },
  {
   "cell_type": "markdown",
   "source": [
    "This is the fun part! For now, I'll focus on just the years that are multiples of 5."
   ],
   "metadata": {
    "collapsed": false,
    "pycharm": {
     "name": "#%% md\n"
    }
   }
  },
  {
   "cell_type": "code",
   "execution_count": 70,
   "outputs": [
    {
     "name": "stdout",
     "output_type": "stream",
     "text": [
      "15\n"
     ]
    }
   ],
   "source": [
    "desired_years = [2000 + x * 5 for x in range(0, 15)] # 2000, 2005, ..., 2065, 2070\n",
    "print(len(desired_years))"
   ],
   "metadata": {
    "collapsed": false,
    "pycharm": {
     "name": "#%%\n"
    }
   }
  },
  {
   "cell_type": "code",
   "execution_count": 106,
   "outputs": [
    {
     "name": "stdout",
     "output_type": "stream",
     "text": [
      "{2070: 28.702604457310315, 2065: 25.531958879743343, 2060: 24.3005092075893, 2055: 26.99310128348219, 2050: 25.773265729631703, 2045: 26.600470842633968, 2040: 27.094349888392856, 2035: 29.627361188616078, 2030: 22.973670305524593, 2025: 25.881781877790218, 2020: 24.01805158342637, 2015: 27.59547903878348}\n"
     ]
    }
   ],
   "source": [
    "result = {}\n",
    "for url in dataset_urls:\n",
    "    year = int(url[-7:-3])\n",
    "    if year in desired_years:\n",
    "        # Download the file.\n",
    "        full_url =  'https://ds.nccs.nasa.gov/thredds2/dodsC/' + url\n",
    "        data = Dataset(full_url)\n",
    "        coords = (32.9412, -97.1342)\n",
    "        lat = coords[0]\n",
    "        lon = coords[1] if coords[1] > 0 else 360 + coords[1]\n",
    "        jj = np.argmin((data['lat'][:]-lat)**2)\n",
    "        ii = np.argmin((data['lon'][:]-lon)**2)\n",
    "\n",
    "        # Note: this function is slow if you compute the full average rather than sampling a day.\n",
    "        # Also not sure if the full average makes more sense than sampling a single day.\n",
    "        total = 0.0\n",
    "        sample_days = range(0, 365, 60)\n",
    "        for day in sample_days:\n",
    "            total += data['tasmax'][day, jj, ii]\n",
    "        result[year] = total / len(sample_days) - 273.15\n",
    "\n",
    "        # Get data for day 200.\n",
    "        # result[year] = data['tasmax'][200, jj, ii] - 273.15\n",
    "\n",
    "        # break\n",
    "\n",
    "print(result)\n",
    "\n",
    "# url = 'https://ds.nccs.nasa.gov/thredds2/dodsC/AMES/NEX/GDDP-CMIP6/GISS-E2-1-G/ssp585/r1i1p1f2/tasmin/tasmin_day_GISS-E2-1-G_ssp585_r1i1p1f2_gn_2099.nc'\n",
    "# data = Dataset(url)\n",
    "# print(data)"
   ],
   "metadata": {
    "collapsed": false,
    "pycharm": {
     "name": "#%%\n"
    }
   }
  },
  {
   "cell_type": "code",
   "execution_count": null,
   "outputs": [],
   "source": [],
   "metadata": {
    "collapsed": false,
    "pycharm": {
     "name": "#%%\n"
    }
   }
  }
 ],
 "metadata": {
  "kernelspec": {
   "display_name": "Python 3",
   "language": "python",
   "name": "python3"
  },
  "language_info": {
   "codemirror_mode": {
    "name": "ipython",
    "version": 2
   },
   "file_extension": ".py",
   "mimetype": "text/x-python",
   "name": "python",
   "nbconvert_exporter": "python",
   "pygments_lexer": "ipython2",
   "version": "2.7.6"
  }
 },
 "nbformat": 4,
 "nbformat_minor": 0
}